{
 "cells": [
  {
   "cell_type": "code",
   "execution_count": 9,
   "metadata": {},
   "outputs": [],
   "source": [
    "import cv2\n",
    "import glob\n",
    "\n",
    "\n",
    "# Tìm kiếm tất cả hình ảnh JPG trong thư mục \"images\"\n",
    "images = glob.glob(\"C:/Users/ngkha/Desktop/DAT301m/MediaPipe/Test/asl_dataset/0/*.jpeg\")\n",
    "\n",
    "# Vòng lặp chính\n",
    "for image_path in images:\n",
    "    # Đọc hình ảnh hiện tại\n",
    "    image = cv2.imread(image_path)\n",
    "\n",
    "    # Chuyển đổi hình ảnh sang định dạng RGB\n",
    "    image_rgb = cv2.cvtColor(image, cv2.COLOR_BGR2RGB)\n",
    "\n",
    "    # Hiển thị hình ảnh\n",
    "    cv2.imshow(\"Image\", image)\n",
    "\n",
    "    # Chờ người dùng nhấn Enter\n",
    "    key = cv2.waitKey(0) & 0xFF\n",
    "\n",
    "    # Thoát nếu người dùng nhấn 'q'\n",
    "    if key == ord('q'):\n",
    "        break\n",
    "\n",
    "# Giải phóng các nguồn tài nguyên\n",
    "cv2.destroyAllWindows()\n"
   ]
  }
 ],
 "metadata": {
  "kernelspec": {
   "display_name": "Python 3",
   "language": "python",
   "name": "python3"
  },
  "language_info": {
   "codemirror_mode": {
    "name": "ipython",
    "version": 3
   },
   "file_extension": ".py",
   "mimetype": "text/x-python",
   "name": "python",
   "nbconvert_exporter": "python",
   "pygments_lexer": "ipython3",
   "version": "3.10.4"
  }
 },
 "nbformat": 4,
 "nbformat_minor": 2
}
